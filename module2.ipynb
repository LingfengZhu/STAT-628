{
 "cells": [
  {
   "cell_type": "markdown",
   "metadata": {},
   "source": [
    "# STAT 628 Module 2 BodyFat Group 3\n",
    "#### Introduction: \n",
    "Our motivation is to obtain a precise, concise and reasonable regression model to predict body fat percentage of a male based on his body informations.\n",
    "#### Dataset:\n",
    "Our dataset ```BodyFat``` is a real data set of 252 men with measurements of their percentage of body fat and various body circumference measurements.\n",
    "#### Background: \n",
    "We assume that percentage of body fat for an individual can be estimated once body density has been determined:\n",
    "$$BodyFat(\\%) = \\frac{495}{BodyDensity(gm/cm^3)} - 450 \\tag{1}$$\n",
    "And the BMI can be calculated by:\n",
    "$$BMI = \\frac{703\\times Weight(lbs)}{Height(inches)} \\tag{2}$$\n",
    "\n",
    "## 1. Exploratory data analysis"
   ]
  },
  {
   "cell_type": "code",
   "execution_count": 42,
   "metadata": {},
   "outputs": [
    {
     "name": "stderr",
     "output_type": "stream",
     "text": [
      "Loading required package: MASS\n"
     ]
    }
   ],
   "source": [
    "# install / import packages\n",
    "usePackage = function(p) {\n",
    "    if (!is.element(p,installed.packages()[,1]))\n",
    "        install.packages(p, dep=TRUE)\n",
    "    require(p, character.only=TRUE)\n",
    "}\n",
    "\n",
    "usePackage(\"ggplot2\")\n",
    "usePackage(\"Matrix\")\n",
    "usePackage(\"foreach\")\n",
    "usePackage(\"glmnet\")\n",
    "usePackage(\"MASS\")"
   ]
  },
  {
   "cell_type": "code",
   "execution_count": 2,
   "metadata": {},
   "outputs": [
    {
     "data": {
      "text/html": [
       "<table>\n",
       "<caption>A data.frame: 6 × 16</caption>\n",
       "<thead>\n",
       "\t<tr><th scope=col>BODYFAT</th><th scope=col>DENSITY</th><th scope=col>AGE</th><th scope=col>WEIGHT</th><th scope=col>HEIGHT</th><th scope=col>ADIPOSITY</th><th scope=col>NECK</th><th scope=col>CHEST</th><th scope=col>ABDOMEN</th><th scope=col>HIP</th><th scope=col>THIGH</th><th scope=col>KNEE</th><th scope=col>ANKLE</th><th scope=col>BICEPS</th><th scope=col>FOREARM</th><th scope=col>WRIST</th></tr>\n",
       "\t<tr><th scope=col>&lt;dbl&gt;</th><th scope=col>&lt;dbl&gt;</th><th scope=col>&lt;int&gt;</th><th scope=col>&lt;dbl&gt;</th><th scope=col>&lt;dbl&gt;</th><th scope=col>&lt;dbl&gt;</th><th scope=col>&lt;dbl&gt;</th><th scope=col>&lt;dbl&gt;</th><th scope=col>&lt;dbl&gt;</th><th scope=col>&lt;dbl&gt;</th><th scope=col>&lt;dbl&gt;</th><th scope=col>&lt;dbl&gt;</th><th scope=col>&lt;dbl&gt;</th><th scope=col>&lt;dbl&gt;</th><th scope=col>&lt;dbl&gt;</th><th scope=col>&lt;dbl&gt;</th></tr>\n",
       "</thead>\n",
       "<tbody>\n",
       "\t<tr><td>12.6</td><td>1.0708</td><td>23</td><td>154.25</td><td>67.75</td><td>23.7</td><td>36.2</td><td> 93.1</td><td> 85.2</td><td> 94.5</td><td>59.0</td><td>37.3</td><td>21.9</td><td>32.0</td><td>27.4</td><td>17.1</td></tr>\n",
       "\t<tr><td> 6.9</td><td>1.0853</td><td>22</td><td>173.25</td><td>72.25</td><td>23.4</td><td>38.5</td><td> 93.6</td><td> 83.0</td><td> 98.7</td><td>58.7</td><td>37.3</td><td>23.4</td><td>30.5</td><td>28.9</td><td>18.2</td></tr>\n",
       "\t<tr><td>24.6</td><td>1.0414</td><td>22</td><td>154.00</td><td>66.25</td><td>24.7</td><td>34.0</td><td> 95.8</td><td> 87.9</td><td> 99.2</td><td>59.6</td><td>38.9</td><td>24.0</td><td>28.8</td><td>25.2</td><td>16.6</td></tr>\n",
       "\t<tr><td>10.9</td><td>1.0751</td><td>26</td><td>184.75</td><td>72.25</td><td>24.9</td><td>37.4</td><td>101.8</td><td> 86.4</td><td>101.2</td><td>60.1</td><td>37.3</td><td>22.8</td><td>32.4</td><td>29.4</td><td>18.2</td></tr>\n",
       "\t<tr><td>27.8</td><td>1.0340</td><td>24</td><td>184.25</td><td>71.25</td><td>25.6</td><td>34.4</td><td> 97.3</td><td>100.0</td><td>101.9</td><td>63.2</td><td>42.2</td><td>24.0</td><td>32.2</td><td>27.7</td><td>17.7</td></tr>\n",
       "\t<tr><td>20.6</td><td>1.0502</td><td>24</td><td>210.25</td><td>74.75</td><td>26.5</td><td>39.0</td><td>104.5</td><td> 94.4</td><td>107.8</td><td>66.0</td><td>42.0</td><td>25.6</td><td>35.7</td><td>30.6</td><td>18.8</td></tr>\n",
       "</tbody>\n",
       "</table>\n"
      ],
      "text/latex": [
       "A data.frame: 6 × 16\n",
       "\\begin{tabular}{r|llllllllllllllll}\n",
       " BODYFAT & DENSITY & AGE & WEIGHT & HEIGHT & ADIPOSITY & NECK & CHEST & ABDOMEN & HIP & THIGH & KNEE & ANKLE & BICEPS & FOREARM & WRIST\\\\\n",
       " <dbl> & <dbl> & <int> & <dbl> & <dbl> & <dbl> & <dbl> & <dbl> & <dbl> & <dbl> & <dbl> & <dbl> & <dbl> & <dbl> & <dbl> & <dbl>\\\\\n",
       "\\hline\n",
       "\t 12.6 & 1.0708 & 23 & 154.25 & 67.75 & 23.7 & 36.2 &  93.1 &  85.2 &  94.5 & 59.0 & 37.3 & 21.9 & 32.0 & 27.4 & 17.1\\\\\n",
       "\t  6.9 & 1.0853 & 22 & 173.25 & 72.25 & 23.4 & 38.5 &  93.6 &  83.0 &  98.7 & 58.7 & 37.3 & 23.4 & 30.5 & 28.9 & 18.2\\\\\n",
       "\t 24.6 & 1.0414 & 22 & 154.00 & 66.25 & 24.7 & 34.0 &  95.8 &  87.9 &  99.2 & 59.6 & 38.9 & 24.0 & 28.8 & 25.2 & 16.6\\\\\n",
       "\t 10.9 & 1.0751 & 26 & 184.75 & 72.25 & 24.9 & 37.4 & 101.8 &  86.4 & 101.2 & 60.1 & 37.3 & 22.8 & 32.4 & 29.4 & 18.2\\\\\n",
       "\t 27.8 & 1.0340 & 24 & 184.25 & 71.25 & 25.6 & 34.4 &  97.3 & 100.0 & 101.9 & 63.2 & 42.2 & 24.0 & 32.2 & 27.7 & 17.7\\\\\n",
       "\t 20.6 & 1.0502 & 24 & 210.25 & 74.75 & 26.5 & 39.0 & 104.5 &  94.4 & 107.8 & 66.0 & 42.0 & 25.6 & 35.7 & 30.6 & 18.8\\\\\n",
       "\\end{tabular}\n"
      ],
      "text/markdown": [
       "\n",
       "A data.frame: 6 × 16\n",
       "\n",
       "| BODYFAT &lt;dbl&gt; | DENSITY &lt;dbl&gt; | AGE &lt;int&gt; | WEIGHT &lt;dbl&gt; | HEIGHT &lt;dbl&gt; | ADIPOSITY &lt;dbl&gt; | NECK &lt;dbl&gt; | CHEST &lt;dbl&gt; | ABDOMEN &lt;dbl&gt; | HIP &lt;dbl&gt; | THIGH &lt;dbl&gt; | KNEE &lt;dbl&gt; | ANKLE &lt;dbl&gt; | BICEPS &lt;dbl&gt; | FOREARM &lt;dbl&gt; | WRIST &lt;dbl&gt; |\n",
       "|---|---|---|---|---|---|---|---|---|---|---|---|---|---|---|---|\n",
       "| 12.6 | 1.0708 | 23 | 154.25 | 67.75 | 23.7 | 36.2 |  93.1 |  85.2 |  94.5 | 59.0 | 37.3 | 21.9 | 32.0 | 27.4 | 17.1 |\n",
       "|  6.9 | 1.0853 | 22 | 173.25 | 72.25 | 23.4 | 38.5 |  93.6 |  83.0 |  98.7 | 58.7 | 37.3 | 23.4 | 30.5 | 28.9 | 18.2 |\n",
       "| 24.6 | 1.0414 | 22 | 154.00 | 66.25 | 24.7 | 34.0 |  95.8 |  87.9 |  99.2 | 59.6 | 38.9 | 24.0 | 28.8 | 25.2 | 16.6 |\n",
       "| 10.9 | 1.0751 | 26 | 184.75 | 72.25 | 24.9 | 37.4 | 101.8 |  86.4 | 101.2 | 60.1 | 37.3 | 22.8 | 32.4 | 29.4 | 18.2 |\n",
       "| 27.8 | 1.0340 | 24 | 184.25 | 71.25 | 25.6 | 34.4 |  97.3 | 100.0 | 101.9 | 63.2 | 42.2 | 24.0 | 32.2 | 27.7 | 17.7 |\n",
       "| 20.6 | 1.0502 | 24 | 210.25 | 74.75 | 26.5 | 39.0 | 104.5 |  94.4 | 107.8 | 66.0 | 42.0 | 25.6 | 35.7 | 30.6 | 18.8 |\n",
       "\n"
      ],
      "text/plain": [
       "  BODYFAT DENSITY AGE WEIGHT HEIGHT ADIPOSITY NECK CHEST ABDOMEN HIP   THIGH\n",
       "1 12.6    1.0708  23  154.25 67.75  23.7      36.2  93.1  85.2    94.5 59.0 \n",
       "2  6.9    1.0853  22  173.25 72.25  23.4      38.5  93.6  83.0    98.7 58.7 \n",
       "3 24.6    1.0414  22  154.00 66.25  24.7      34.0  95.8  87.9    99.2 59.6 \n",
       "4 10.9    1.0751  26  184.75 72.25  24.9      37.4 101.8  86.4   101.2 60.1 \n",
       "5 27.8    1.0340  24  184.25 71.25  25.6      34.4  97.3 100.0   101.9 63.2 \n",
       "6 20.6    1.0502  24  210.25 74.75  26.5      39.0 104.5  94.4   107.8 66.0 \n",
       "  KNEE ANKLE BICEPS FOREARM WRIST\n",
       "1 37.3 21.9  32.0   27.4    17.1 \n",
       "2 37.3 23.4  30.5   28.9    18.2 \n",
       "3 38.9 24.0  28.8   25.2    16.6 \n",
       "4 37.3 22.8  32.4   29.4    18.2 \n",
       "5 42.2 24.0  32.2   27.7    17.7 \n",
       "6 42.0 25.6  35.7   30.6    18.8 "
      ]
     },
     "metadata": {},
     "output_type": "display_data"
    }
   ],
   "source": [
    "# Load the data\n",
    "data = read.csv('BodyFat.csv')[,-1]\n",
    "head(data)"
   ]
  },
  {
   "cell_type": "markdown",
   "metadata": {},
   "source": [
    "We can first intuitively analyze the data by looking at its summary tables and histograms. There are some obvious \"abnormal\" obsevations. Some results are as following:"
   ]
  },
  {
   "cell_type": "code",
   "execution_count": 3,
   "metadata": {},
   "outputs": [
    {
     "data": {
      "text/plain": [
       "    BODYFAT          WEIGHT          HEIGHT        ADIPOSITY    \n",
       " Min.   : 0.00   Min.   :118.5   Min.   :29.50   Min.   :18.10  \n",
       " 1st Qu.:12.80   1st Qu.:159.0   1st Qu.:68.25   1st Qu.:23.10  \n",
       " Median :19.00   Median :176.5   Median :70.00   Median :25.05  \n",
       " Mean   :18.94   Mean   :178.9   Mean   :70.15   Mean   :25.44  \n",
       " 3rd Qu.:24.60   3rd Qu.:197.0   3rd Qu.:72.25   3rd Qu.:27.32  \n",
       " Max.   :45.10   Max.   :363.1   Max.   :77.75   Max.   :48.90  "
      ]
     },
     "metadata": {},
     "output_type": "display_data"
    },
    {
     "data": {
      "image/png": "[encoded data removed]",
      "text/plain": [
       "Plot with title \"Hist of BODYFAT\""
      ]
     },
     "metadata": {},
     "output_type": "display_data"
    }
   ],
   "source": [
    "# summary and hist\n",
    "summary(data[, c(1, 4, 5, 6)]) \n",
    "# options(repr.plot.width=6, repr.plot.height=3)\n",
    "par(mfrow = c(1,2))\n",
    "hist(data$BODYFAT, breaks = 30, main = \"Hist of BODYFAT\", xlab = \"BODYFAT\")\n",
    "hist(data$WEIGHT, breaks = 30, main = \"Hist of BODYFAT\", xlab = \"WEIGHT\")\n",
    "par(mfrow = c(1,1))"
   ]
  },
  {
   "cell_type": "markdown",
   "metadata": {},
   "source": [
    "From the results above, we can find some \"abnormal\" obsevations: For example, the minimal ```BODYFAT``` is 0 %, which is unlikely to be true; besides, the maximal ```BODYFAT``` is 36 %, which is too large for a living person. Similarly, the minimal ```HEIGHT```, maximal ```WEIGHT``` and maxinal ```ADIPOSITY``` are all unlikely to be true for a nomal man. We can calculate the predicted values of these \"abnormal\" data using some formula or just delete these observations. Anyway, data cleaning is needed for this dataset.  \n",
    "\n",
    "## 2. Data cleaning\n",
    "To find out outliers, we can first look at the **boxplot:**"
   ]
  },
  {
   "cell_type": "code",
   "execution_count": 4,
   "metadata": {},
   "outputs": [
    {
     "name": "stderr",
     "output_type": "stream",
     "text": [
      "Warning message in RColorBrewer::brewer.pal(n, pal):\n",
      "\"n too large, allowed maximum for palette Pastel2 is 8\n",
      "Returning the palette you asked for with that many colors\n",
      "\""
     ]
    },
    {
     "data": {
      "image/png": "[encoded data removed]",
      "text/plain": [
       "plot without title"
      ]
     },
     "metadata": {},
     "output_type": "display_data"
    }
   ],
   "source": [
    "col_name = colnames(data)\n",
    "n_row_0 = nrow(data)\n",
    "n_col_0 = ncol(data)\n",
    "# reshape the data into one-dim\n",
    "data_all_0 = as.matrix(data)\n",
    "dim(data_all_0) = c(n_row_0*n_col_0,1)\n",
    "facs_0 = gl(n_col_0,n_row_0,label=col_name)\n",
    "data_fac_0 = data.frame(data_all_0,facs_0)\n",
    "\n",
    "box_0 = ggplot(data_fac_0,aes(x=factor(data_fac_0$facs_0),y=data_fac_0$data_all_0,fill = factor(data_fac_0$facs_0)))+\n",
    "  geom_boxplot(outlier.color = \"red\",outlier.shape=21,outlier.size = 1.5)+scale_fill_brewer(palette = \"Pastel2\")+\n",
    "  labs(title = \"boxplot of original data\",xlab=\"factor\",ylab=\"data value\")+\n",
    "  stat_summary(fun.y = \"mean\",geom=\"point\",shape=23,size=3,fill=\"white\")+guides(fill=FALSE)\n",
    "box_0\n",
    "# ggsave(\"boxplot_original.png\",box_0)\n",
    "\n",
    "##################################################\n",
    "#### please fix this cell to get the box plot ####\n",
    "##################################################"
   ]
  },
  {
   "cell_type": "markdown",
   "metadata": {},
   "source": [
    "Calculate the rages of ```WEIGHT```,```HEIGHT```,```DENSITY```,```BODYFAT``` between there 1% quantiles and 99% quantiles respectively, any value out of such ranges can be considered as \"abnormal\" observations:"
   ]
  },
  {
   "cell_type": "code",
   "execution_count": 5,
   "metadata": {},
   "outputs": [
    {
     "name": "stdout",
     "output_type": "stream",
     "text": [
      "[1] \"Quantile ranges:\"\n"
     ]
    },
    {
     "data": {
      "text/html": [
       "<table>\n",
       "<caption>A matrix: 4 × 2 of type dbl</caption>\n",
       "<thead>\n",
       "\t<tr><th></th><th scope=col>1%</th><th scope=col>99%</th></tr>\n",
       "</thead>\n",
       "<tbody>\n",
       "\t<tr><th scope=row>weight_q</th><td>125.50500</td><td>245.720000</td></tr>\n",
       "\t<tr><th scope=row>height_q</th><td> 64.38250</td><td> 76.000000</td></tr>\n",
       "\t<tr><th scope=row>density_q</th><td>  1.01604</td><td>  1.095393</td></tr>\n",
       "\t<tr><th scope=row>bodyfat_q</th><td>  4.35500</td><td> 35.582000</td></tr>\n",
       "</tbody>\n",
       "</table>\n"
      ],
      "text/latex": [
       "A matrix: 4 × 2 of type dbl\n",
       "\\begin{tabular}{r|ll}\n",
       "  & 1\\% & 99\\%\\\\\n",
       "\\hline\n",
       "\tweight\\_q & 125.50500 & 245.720000\\\\\n",
       "\theight\\_q &  64.38250 &  76.000000\\\\\n",
       "\tdensity\\_q &   1.01604 &   1.095393\\\\\n",
       "\tbodyfat\\_q &   4.35500 &  35.582000\\\\\n",
       "\\end{tabular}\n"
      ],
      "text/markdown": [
       "\n",
       "A matrix: 4 × 2 of type dbl\n",
       "\n",
       "| <!--/--> | 1% | 99% |\n",
       "|---|---|---|\n",
       "| weight_q | 125.50500 | 245.720000 |\n",
       "| height_q |  64.38250 |  76.000000 |\n",
       "| density_q |   1.01604 |   1.095393 |\n",
       "| bodyfat_q |   4.35500 |  35.582000 |\n",
       "\n"
      ],
      "text/plain": [
       "          1%        99%       \n",
       "weight_q  125.50500 245.720000\n",
       "height_q   64.38250  76.000000\n",
       "density_q   1.01604   1.095393\n",
       "bodyfat_q   4.35500  35.582000"
      ]
     },
     "metadata": {},
     "output_type": "display_data"
    }
   ],
   "source": [
    "weight_q = c(quantile(data$WEIGHT,0.01),quantile(data$WEIGHT,0.99))\n",
    "#(125.505,245.720)\n",
    "height_q = c(quantile(data$HEIGHT,0.01),quantile(data$HEIGHT,0.99))\n",
    "#(64.3825 ,76.0000 )\n",
    "density_q = c(quantile(data$DENSITY,0.01),quantile(data$DENSITY,0.99))\n",
    "#(1.016040 ,1.095393)\n",
    "bodyfat_q = c(quantile(data$BODYFAT,0.01),quantile(data$BODYFAT,0.99))\n",
    "#(4.355 ,35.582)\n",
    "print(\"Quantile ranges:\")\n",
    "quantiles = rbind(weight_q, height_q, density_q, bodyfat_q)\n",
    "quantiles"
   ]
  },
  {
   "cell_type": "markdown",
   "metadata": {},
   "source": [
    "We can then compare the body fat percentages calculated from formula (1) (```CalBodyFat```) and given by the dataset (```RealBodyFat```) of each observation to see if there is any strong difference. Similarly, we can compare the BMI values calculated from formula (2) (```CalBMI```) and given by the dataset (```RealBMI```) to find some outliers:"
   ]
  },
  {
   "cell_type": "code",
   "execution_count": 6,
   "metadata": {},
   "outputs": [],
   "source": [
    "#Bodyfat & BMI from calculation\n",
    "bodyfat_siri = (495/(data$DENSITY))-450\n",
    "BMI_cal = (703*data$WEIGHT)/((data$HEIGHT)^2)\n",
    "# compare the calculated results and the given values\n",
    "compare_bodyfat = data.frame(RealBodyfat=data$BODYFAT,CalBodyfat=bodyfat_siri)\n",
    "compare_BMI = data.frame(RealBMI=data$ADIPOSITY,CalBMI=BMI_cal)"
   ]
  },
  {
   "cell_type": "markdown",
   "metadata": {},
   "source": [
    "### 2.1 For BMI:"
   ]
  },
  {
   "cell_type": "code",
   "execution_count": 7,
   "metadata": {},
   "outputs": [
    {
     "data": {
      "image/png": "[encoded data removed]",
      "text/plain": [
       "plot without title"
      ]
     },
     "metadata": {},
     "output_type": "display_data"
    }
   ],
   "source": [
    "# plot the results\n",
    "bmi_plot_1<- ggplot(compare_BMI,aes(x=RealBMI,y=CalBMI))+geom_point()+\n",
    "  geom_abline(intercept = 0,slope = 1)+\n",
    "  annotate(\"text\",x=29.9,y=150.6,label=\"42\",vjust=-1)+labs(title = \"\")\n",
    "bmi_plot_1\n",
    "# ggsave(\"bmi_compare_1.png\",bmi_plot_1)"
   ]
  },
  {
   "cell_type": "markdown",
   "metadata": {},
   "source": [
    "The 42nd observation seems to be an outlier. Check his ```WEIGHT``` and ```HEIGHT``` to find out where is the problem:"
   ]
  },
  {
   "cell_type": "code",
   "execution_count": 8,
   "metadata": {},
   "outputs": [
    {
     "data": {
      "text/html": [
       "<span style=white-space:pre-wrap>'WEIGHT of 42nd observation:  205'</span>"
      ],
      "text/latex": [
       "'WEIGHT of 42nd observation:  205'"
      ],
      "text/markdown": [
       "<span style=white-space:pre-wrap>'WEIGHT of 42nd observation:  205'</span>"
      ],
      "text/plain": [
       "[1] \"WEIGHT of 42nd observation:  205\""
      ]
     },
     "metadata": {},
     "output_type": "display_data"
    },
    {
     "data": {
      "text/html": [
       "'Quantiles of WEIGHT: '"
      ],
      "text/latex": [
       "'Quantiles of WEIGHT: '"
      ],
      "text/markdown": [
       "'Quantiles of WEIGHT: '"
      ],
      "text/plain": [
       "[1] \"Quantiles of WEIGHT: \""
      ]
     },
     "metadata": {},
     "output_type": "display_data"
    },
    {
     "data": {
      "text/html": [
       "<dl class=dl-horizontal>\n",
       "\t<dt>1%</dt>\n",
       "\t\t<dd>125.505</dd>\n",
       "\t<dt>99%</dt>\n",
       "\t\t<dd>245.72</dd>\n",
       "</dl>\n"
      ],
      "text/latex": [
       "\\begin{description*}\n",
       "\\item[1\\textbackslash{}\\%] 125.505\n",
       "\\item[99\\textbackslash{}\\%] 245.72\n",
       "\\end{description*}\n"
      ],
      "text/markdown": [
       "1%\n",
       ":   125.50599%\n",
       ":   245.72\n",
       "\n"
      ],
      "text/plain": [
       "     1%     99% \n",
       "125.505 245.720 "
      ]
     },
     "metadata": {},
     "output_type": "display_data"
    },
    {
     "data": {
      "text/html": [
       "<span style=white-space:pre-wrap>'HEIGHT of 42nd observation:  29.5'</span>"
      ],
      "text/latex": [
       "'HEIGHT of 42nd observation:  29.5'"
      ],
      "text/markdown": [
       "<span style=white-space:pre-wrap>'HEIGHT of 42nd observation:  29.5'</span>"
      ],
      "text/plain": [
       "[1] \"HEIGHT of 42nd observation:  29.5\""
      ]
     },
     "metadata": {},
     "output_type": "display_data"
    },
    {
     "data": {
      "text/html": [
       "'Quantiles of HEIGHT: '"
      ],
      "text/latex": [
       "'Quantiles of HEIGHT: '"
      ],
      "text/markdown": [
       "'Quantiles of HEIGHT: '"
      ],
      "text/plain": [
       "[1] \"Quantiles of HEIGHT: \""
      ]
     },
     "metadata": {},
     "output_type": "display_data"
    },
    {
     "data": {
      "text/html": [
       "<dl class=dl-horizontal>\n",
       "\t<dt>1%</dt>\n",
       "\t\t<dd>64.3825</dd>\n",
       "\t<dt>99%</dt>\n",
       "\t\t<dd>76</dd>\n",
       "</dl>\n"
      ],
      "text/latex": [
       "\\begin{description*}\n",
       "\\item[1\\textbackslash{}\\%] 64.3825\n",
       "\\item[99\\textbackslash{}\\%] 76\n",
       "\\end{description*}\n"
      ],
      "text/markdown": [
       "1%\n",
       ":   64.382599%\n",
       ":   76\n",
       "\n"
      ],
      "text/plain": [
       "     1%     99% \n",
       "64.3825 76.0000 "
      ]
     },
     "metadata": {},
     "output_type": "display_data"
    }
   ],
   "source": [
    "paste(\"WEIGHT of 42nd observation: \", data[42,]$WEIGHT)\n",
    "paste(\"Quantiles of WEIGHT: \")\n",
    "weight_q\n",
    "paste(\"HEIGHT of 42nd observation: \", data[42,]$HEIGHT)\n",
    "paste(\"Quantiles of HEIGHT: \")\n",
    "height_q"
   ]
  },
  {
   "cell_type": "markdown",
   "metadata": {},
   "source": [
    "From the results above, we can see that the *42nd* observation’s height (**29.5** inches) is out of quantile range, so we use the formula (2) to calculated the height based on his weight and BMI, it turns out that his height should be **69.43** inches:"
   ]
  },
  {
   "cell_type": "code",
   "execution_count": 9,
   "metadata": {},
   "outputs": [
    {
     "data": {
      "image/png": "[encoded data removed]",
      "text/plain": [
       "plot without title"
      ]
     },
     "metadata": {},
     "output_type": "display_data"
    }
   ],
   "source": [
    "# replace the height of the 42nd obs\n",
    "data_new = data\n",
    "data_new$HEIGHT[42] = sqrt(703*(data$WEIGHT[42])/data$ADIPOSITY[42])\n",
    "#after changing the height of point 42\n",
    "compare_BMI$CalBMI[42]<- (703*data_new$WEIGHT[42])/((data_new$HEIGHT[42])^2)\n",
    "bmi_plot_2<- ggplot(compare_BMI,aes(x=RealBMI,y=CalBMI))+geom_point()+\n",
    "  geom_abline(intercept = 0,slope = 1)+\n",
    "  annotate(\"text\",x=23.4,y=25,label=\"163\",vjust=-1)+\n",
    "  annotate(\"text\",x=24.5,y=18,label=\"221\",vjust=-1)\n",
    "bmi_plot_2\n",
    "# ggsave(\"bmi_compare_2.png\",bmi_plot_2)"
   ]
  },
  {
   "cell_type": "markdown",
   "metadata": {},
   "source": [
    "After changing the height of the *42nd* observation, we can find that the 163rd and 221st observations still don't fit the line perfectly, but after similar analysis, we find out that their heights and weights is within the quantile range above, so we won’t change them."
   ]
  },
  {
   "cell_type": "markdown",
   "metadata": {},
   "source": [
    "### 2.2 For BodyFat:"
   ]
  },
  {
   "cell_type": "code",
   "execution_count": 10,
   "metadata": {},
   "outputs": [
    {
     "data": {
      "image/png": "[encoded data removed]",
      "text/plain": [
       "plot without title"
      ]
     },
     "metadata": {},
     "output_type": "display_data"
    }
   ],
   "source": [
    "#compare BodyFat, plot the results\n",
    "bodyfat_plot_1<- ggplot(compare_bodyfat,aes(x=RealBodyfat,y=CalBodyfat))+geom_point()+\n",
    "  geom_abline(intercept = 0,slope = 1)+\n",
    "  annotate(\"text\",x=6.4,y=9,label=\"48\",vjust=-1)+\n",
    "  annotate(\"text\",x=17.3,y=-4,label=\"96\",vjust=-1)+\n",
    "  annotate(\"text\",x=0,y=-3.7,label=\"182\",vjust=-1)\n",
    "bodyfat_plot_1\n",
    "# ggsave(\"bodyfat_compare.png\",bodyfat_plot_1)"
   ]
  },
  {
   "cell_type": "code",
   "execution_count": 11,
   "metadata": {},
   "outputs": [
    {
     "data": {
      "text/html": [
       "<table>\n",
       "<caption>A data.frame: 3 × 2</caption>\n",
       "<thead>\n",
       "\t<tr><th></th><th scope=col>RealBodyfat</th><th scope=col>CalBodyfat</th></tr>\n",
       "\t<tr><th></th><th scope=col>&lt;dbl&gt;</th><th scope=col>&lt;dbl&gt;</th></tr>\n",
       "</thead>\n",
       "<tbody>\n",
       "\t<tr><th scope=row>182</th><td> 0.0</td><td>-3.6116873</td></tr>\n",
       "\t<tr><th scope=row>48</th><td> 6.4</td><td>14.1350211</td></tr>\n",
       "\t<tr><th scope=row>96</th><td>17.3</td><td> 0.3684833</td></tr>\n",
       "</tbody>\n",
       "</table>\n"
      ],
      "text/latex": [
       "A data.frame: 3 × 2\n",
       "\\begin{tabular}{r|ll}\n",
       "  & RealBodyfat & CalBodyfat\\\\\n",
       "  & <dbl> & <dbl>\\\\\n",
       "\\hline\n",
       "\t182 &  0.0 & -3.6116873\\\\\n",
       "\t48 &  6.4 & 14.1350211\\\\\n",
       "\t96 & 17.3 &  0.3684833\\\\\n",
       "\\end{tabular}\n"
      ],
      "text/markdown": [
       "\n",
       "A data.frame: 3 × 2\n",
       "\n",
       "| <!--/--> | RealBodyfat &lt;dbl&gt; | CalBodyfat &lt;dbl&gt; |\n",
       "|---|---|---|\n",
       "| 182 |  0.0 | -3.6116873 |\n",
       "| 48 |  6.4 | 14.1350211 |\n",
       "| 96 | 17.3 |  0.3684833 |\n",
       "\n"
      ],
      "text/plain": [
       "    RealBodyfat CalBodyfat\n",
       "182  0.0        -3.6116873\n",
       "48   6.4        14.1350211\n",
       "96  17.3         0.3684833"
      ]
     },
     "metadata": {},
     "output_type": "display_data"
    },
    {
     "data": {
      "text/html": [
       "<table>\n",
       "<caption>A matrix: 2 × 2 of type dbl</caption>\n",
       "<thead>\n",
       "\t<tr><th></th><th scope=col>48th</th><th scope=col>96th</th></tr>\n",
       "</thead>\n",
       "<tbody>\n",
       "\t<tr><th scope=row>density</th><td>1.0665</td><td> 1.0991</td></tr>\n",
       "\t<tr><th scope=row>bodyfat</th><td>6.4000</td><td>17.3000</td></tr>\n",
       "</tbody>\n",
       "</table>\n"
      ],
      "text/latex": [
       "A matrix: 2 × 2 of type dbl\n",
       "\\begin{tabular}{r|ll}\n",
       "  & 48th & 96th\\\\\n",
       "\\hline\n",
       "\tdensity & 1.0665 &  1.0991\\\\\n",
       "\tbodyfat & 6.4000 & 17.3000\\\\\n",
       "\\end{tabular}\n"
      ],
      "text/markdown": [
       "\n",
       "A matrix: 2 × 2 of type dbl\n",
       "\n",
       "| <!--/--> | 48th | 96th |\n",
       "|---|---|---|\n",
       "| density | 1.0665 |  1.0991 |\n",
       "| bodyfat | 6.4000 | 17.3000 |\n",
       "\n"
      ],
      "text/plain": [
       "        48th   96th   \n",
       "density 1.0665  1.0991\n",
       "bodyfat 6.4000 17.3000"
      ]
     },
     "metadata": {},
     "output_type": "display_data"
    }
   ],
   "source": [
    "# the data of abnormal observations\n",
    "compare_bodyfat[c(182, 48, 96),]\n",
    "myoutput = rbind(density = data$DENSITY[c(48,96)], bodyfat = data$BODYFAT[c(48,96)])\n",
    "colnames(myoutput) = c(\"48th\", \"96th\")\n",
    "myoutput"
   ]
  },
  {
   "cell_type": "markdown",
   "metadata": {},
   "source": [
    "From the graph above, we can see that the *182nd* observation have a **ZERO** calculated body fat percentage and a **NEGATIVE** given body fat percentage, which is unlikely to be true for a normal male, so, we will just remove this observation. The *48th* observation has normal body density and body fat percentage, so we will keep it in spite of its unfitness of the line. However, the *96th* obsrvation has a density far away from the density quantile range, so we should modify the body density of this observation or just drop this observation. Since people can not easily obtain body density in real life, we will just remove this observation (We also drop the column ```DENSITY``` since such data is not feasible in real world application): "
   ]
  },
  {
   "cell_type": "code",
   "execution_count": 12,
   "metadata": {},
   "outputs": [],
   "source": [
    "# we remove point 182 and 96; drop column DENSITY\n",
    "data_new = data_new[-c(182,96),-2]"
   ]
  },
  {
   "cell_type": "markdown",
   "metadata": {},
   "source": [
    "### 2.3 Other outliers\n",
    "Finally, we use the 0.01 and 0.99 quantiles to replace the values out of 0.01 ~ 0.99 ranges and save the cleaned data into a ```.csv``` file:"
   ]
  },
  {
   "cell_type": "code",
   "execution_count": 13,
   "metadata": {},
   "outputs": [],
   "source": [
    "#deal with other outlier\n",
    "del_outliers = function(data,lower_b,upper_b){\n",
    "  \n",
    "  col_n = ncol(data)\n",
    "  for(i in 1:col_n){\n",
    "    temp = data[,i]\n",
    "    q_lower = quantile(temp,lower_b)\n",
    "    q_upper = quantile(temp,upper_b)\n",
    "    data[temp < q_lower,i] = q_lower\n",
    "    data[temp > q_upper,i] = q_upper\n",
    "  }\n",
    "  return(data)\n",
    "}\n",
    "\n",
    "data_new<- del_outliers(data_new,0.01,0.99)\n",
    "# write.csv(data_new,\"cleaned.csv\")"
   ]
  },
  {
   "cell_type": "markdown",
   "metadata": {},
   "source": [
    "The **boxplot** of the cleaned data:"
   ]
  },
  {
   "cell_type": "code",
   "execution_count": 14,
   "metadata": {},
   "outputs": [
    {
     "name": "stderr",
     "output_type": "stream",
     "text": [
      "Warning message in RColorBrewer::brewer.pal(n, pal):\n",
      "\"n too large, allowed maximum for palette Pastel2 is 8\n",
      "Returning the palette you asked for with that many colors\n",
      "\""
     ]
    },
    {
     "data": {
      "image/png": "[encoded data removed]",
      "text/plain": [
       "plot without title"
      ]
     },
     "metadata": {},
     "output_type": "display_data"
    }
   ],
   "source": [
    "# boxplot of the cleaned data\n",
    "data_all<- as.matrix(data_new)\n",
    "dim(data_all)<- c(nrow(data_new)*ncol(data_new),1)\n",
    "col_name_1<- colnames(data_new)\n",
    "facs<- gl(ncol(data_new),nrow(data_new),label=col_name_1)\n",
    "data_fac<- data.frame(data_all,facs)\n",
    "\n",
    "box<- ggplot(data_fac,aes(x=factor(data_fac$facs),y=data_fac$data_all,fill = factor(data_fac$facs)))+\n",
    "  geom_boxplot(outlier.color = \"red\",outlier.shape=21,outlier.size = 1.5)+scale_fill_brewer(palette = \"Pastel2\")+\n",
    "  labs(title = \"boxplot of adjusted data\",xlab=\"factor\",ylab=\"data value\")+guides(fill=FALSE)\n",
    "box\n",
    "# ggsave(\"boxplot_adjusted.png\",box)"
   ]
  },
  {
   "cell_type": "markdown",
   "metadata": {},
   "source": [
    "Obviously, there are less outliers after the data cleaning. Next, we will perform feature selection.\n",
    "\n",
    "## 3. Feature Selection\n",
    "### 3.1 Cross Validation\n",
    "We use a **10-fold cross validation** to compute the average MSE (mean-square error) of each model:\n",
    "$$MSE = E((Y - \\hat{Y})^2) \\tag{3}$$\n",
    "We shuffle the data before every CV and repeated 1000 times."
   ]
  },
  {
   "cell_type": "code",
   "execution_count": 15,
   "metadata": {},
   "outputs": [],
   "source": [
    "#this is a function to calculate the cross validation\n",
    "cv = function(data, model){\n",
    "  num = dim(data)[1]\n",
    "  var = dim(data)[2]\n",
    "  l = round(n/10) # length of each fold\n",
    "  MSE = 1:10\n",
    "  for(i in 1:10){\n",
    "    test = (l*(i-1)+1):(l*i)\n",
    "    if(i == 10){\n",
    "      test = (l*9+1):num\n",
    "    }\n",
    "    model = lm(model, data = data[-test,])\n",
    "    test_X = data[test, 2:var]\n",
    "    test_Y = data[test, 1]\n",
    "    predict_Y = predict(model, test_X)\n",
    "    MSE[i] = sum((test_Y - predict_Y)^2) / length(test_Y)\n",
    "  }\n",
    "  return(mean(MSE))\n",
    "}\n",
    "\n",
    "# repeat 10-fold CV 1000 times and then return the mean of MSE\n",
    "FindCV = function(data,mymodel){\n",
    "  n=nrow(data)\n",
    "  cv_mean = 0\n",
    "  for(i in 1:1000){\n",
    "    shuffle = sample(1:n, n)\n",
    "    model_cv = cv(data[shuffle,], mymodel)\n",
    "    cv_mean = cv_mean + model_cv\n",
    "  }\n",
    "  cv_mean = cv_mean/1000\n",
    "  return(cv_mean)\n",
    "}"
   ]
  },
  {
   "cell_type": "markdown",
   "metadata": {},
   "source": [
    "### 3.2 Stepwise model selection\n",
    "Perform stepwise selections: We choose **AIC** and **BIC** methods:\n",
    "Let k denote the number of parameters, let RSS denote the residual sum of squares, let n denote the number of observations, we have:  \n",
    "** AIC (Akaike Information Criterion): **\n",
    "$$AIC = 2k + n\\ln{\\frac{RSS}{n}} \\tag{4}$$\n",
    "Choose the model with minimal AIC.  \n",
    "** BIC (Bayesian information criterion): **\n",
    "$$BIC = k\\ln{n} + n\\ln{\\frac{RSS}{n}} \\tag{5}$$\n",
    "Choose the model with minimal BIC."
   ]
  },
  {
   "cell_type": "code",
   "execution_count": 16,
   "metadata": {},
   "outputs": [
    {
     "name": "stdout",
     "output_type": "stream",
     "text": [
      "BODYFAT ~ ABDOMEN + WEIGHT + WRIST + AGE + THIGH + NECK + FOREARM\n"
     ]
    }
   ],
   "source": [
    "#aic selection\n",
    "model_full=lm(BODYFAT~.,data=data_new)\n",
    "model_null=lm(BODYFAT~1, data=data_new)\n",
    "aic_selection = step(model_null, scope=list(lower=model_null, upper=model_full), \n",
    "                     direction=\"both\", trace=0, k = 2)$call$formula\n",
    "print(aic_selection)"
   ]
  },
  {
   "cell_type": "code",
   "execution_count": 17,
   "metadata": {},
   "outputs": [
    {
     "name": "stdout",
     "output_type": "stream",
     "text": [
      "BODYFAT ~ AGE + ABDOMEN + WRIST + HEIGHT\n"
     ]
    }
   ],
   "source": [
    "#bic selection\n",
    "n = dim(data_new)[1]\n",
    "bic_selection = step(model_full, direction = \"both\", trace = 0, k = log(n))$call$formula\n",
    "print(bic_selection)"
   ]
  },
  {
   "cell_type": "markdown",
   "metadata": {},
   "source": [
    "### 3.3 LASSO\n",
    "Let $\\beta$ denote the parameters, we have:  \n",
    "**LASSO** (least absolute shrinkage and selection operator) regression uses an objective function as:\n",
    "$$f(\\beta) = RSS_\\beta + \\lambda||\\beta||_1 \\tag{6}$$\n",
    "Find the $\\beta$ that minimizes $f(\\beta)$. Since LASSO can force some parameters to become zero, we can use LASSO to perform feature selection."
   ]
  },
  {
   "cell_type": "code",
   "execution_count": 18,
   "metadata": {},
   "outputs": [
    {
     "name": "stdout",
     "output_type": "stream",
     "text": [
      "15 x 1 sparse Matrix of class \"dgCMatrix\"\n",
      "                       1\n",
      "(Intercept) -10.81225367\n",
      "AGE           0.02143009\n",
      "WEIGHT        .         \n",
      "HEIGHT       -0.23939696\n",
      "ADIPOSITY     .         \n",
      "NECK          .         \n",
      "CHEST         .         \n",
      "ABDOMEN       0.60378632\n",
      "HIP           .         \n",
      "THIGH         .         \n",
      "KNEE          .         \n",
      "ANKLE         .         \n",
      "BICEPS        .         \n",
      "FOREARM       .         \n",
      "WRIST        -0.55902587\n"
     ]
    }
   ],
   "source": [
    "#lasso\n",
    "X = model.matrix(model_full)[,-1]\n",
    "Y = data_new$BODYFAT\n",
    "set.seed(123)\n",
    "cv_lasso = cv.glmnet(X, Y, alpha = 1, family = \"gaussian\", nfolds = 10)\n",
    "lasso.coef = coef(cv_lasso, s = cv_lasso$lambda.1se)\n",
    "print(lasso.coef)"
   ]
  },
  {
   "cell_type": "markdown",
   "metadata": {},
   "source": [
    "It is not difficult to find that **LASSO** and **BIC** methods give the same feature selection result. Then, we will fit and compare the AIC and BIC models.\n",
    "\n",
    "### 3.4 Model Diagnostics\n",
    "#### AIC model:\n",
    "Summary:"
   ]
  },
  {
   "cell_type": "code",
   "execution_count": 19,
   "metadata": {},
   "outputs": [
    {
     "data": {
      "text/plain": [
       "\n",
       "Call:\n",
       "lm(formula = aic_selection, data = data_new)\n",
       "\n",
       "Residuals:\n",
       "    Min      1Q  Median      3Q     Max \n",
       "-9.8430 -2.7203 -0.2356  2.6824  9.4297 \n",
       "\n",
       "Coefficients:\n",
       "             Estimate Std. Error t value Pr(>|t|)    \n",
       "(Intercept) -27.18843    8.31921  -3.268  0.00124 ** \n",
       "ABDOMEN       0.79726    0.06489  12.286  < 2e-16 ***\n",
       "WEIGHT       -0.08411    0.03249  -2.589  0.01022 *  \n",
       "WRIST        -1.46874    0.47575  -3.087  0.00226 ** \n",
       "AGE           0.07042    0.02827   2.491  0.01342 *  \n",
       "THIGH         0.22036    0.10582   2.083  0.03834 *  \n",
       "NECK         -0.33554    0.21112  -1.589  0.11329    \n",
       "FOREARM       0.37317    0.19006   1.963  0.05074 .  \n",
       "---\n",
       "Signif. codes:  0 '***' 0.001 '**' 0.01 '*' 0.05 '.' 0.1 ' ' 1\n",
       "\n",
       "Residual standard error: 3.876 on 242 degrees of freedom\n",
       "Multiple R-squared:  0.7418,\tAdjusted R-squared:  0.7344 \n",
       "F-statistic: 99.33 on 7 and 242 DF,  p-value: < 2.2e-16\n"
      ]
     },
     "metadata": {},
     "output_type": "display_data"
    }
   ],
   "source": [
    "#Diagnosis\n",
    "fit_aic = lm(aic_selection, data=data_new)\n",
    "summary(fit_aic) #r-squared:0.7418"
   ]
  },
  {
   "cell_type": "markdown",
   "metadata": {},
   "source": [
    "**Diagnostic plots:**"
   ]
  },
  {
   "cell_type": "code",
   "execution_count": 33,
   "metadata": {},
   "outputs": [
    {
     "data": {
      "image/png": "[encoded data removed]",
      "text/plain": [
       "Plot with title \"\""
      ]
     },
     "metadata": {},
     "output_type": "display_data"
    }
   ],
   "source": [
    "par(mfrow = c(2,2))\n",
    "plot(fit_aic)\n",
    "par(mfrow = c(1,1))\n",
    "# save the plot\n",
    "# png(filename=\"aic.png\")\n",
    "# par(mfrow = c(2,2))\n",
    "# plot(fit_aic)\n",
    "# par(mfrow = c(1,1))\n",
    "# dev.off()"
   ]
  },
  {
   "cell_type": "markdown",
   "metadata": {},
   "source": [
    "**CV MSE:**"
   ]
  },
  {
   "cell_type": "markdown",
   "metadata": {},
   "source": [
    "**Box-Cox:**   \n",
    "Test if we need a transformation or not"
   ]
  },
  {
   "cell_type": "code",
   "execution_count": 45,
   "metadata": {},
   "outputs": [
    {
     "data": {
      "image/png": "[encoded data removed]",
      "text/plain": [
       "plot without title"
      ]
     },
     "metadata": {},
     "output_type": "display_data"
    }
   ],
   "source": [
    "boxcox(fit_aic)"
   ]
  },
  {
   "cell_type": "code",
   "execution_count": 39,
   "metadata": {},
   "outputs": [
    {
     "data": {
      "text/html": [
       "<span style=white-space:pre-wrap>'CV MSE for AIC model:  15.4739101930311'</span>"
      ],
      "text/latex": [
       "'CV MSE for AIC model:  15.4739101930311'"
      ],
      "text/markdown": [
       "<span style=white-space:pre-wrap>'CV MSE for AIC model:  15.4739101930311'</span>"
      ],
      "text/plain": [
       "[1] \"CV MSE for AIC model:  15.4739101930311\""
      ]
     },
     "metadata": {},
     "output_type": "display_data"
    }
   ],
   "source": [
    "# CV MSE for AIC model\n",
    "aic_cv_mean = FindCV(data_new,aic_selection)\n",
    "paste(\"CV MSE for AIC model: \", aic_cv_mean)"
   ]
  },
  {
   "cell_type": "markdown",
   "metadata": {},
   "source": [
    "#### BIC model:\n",
    "Summary:"
   ]
  },
  {
   "cell_type": "code",
   "execution_count": 36,
   "metadata": {},
   "outputs": [
    {
     "data": {
      "text/plain": [
       "\n",
       "Call:\n",
       "lm(formula = bic_selection, data = data_new)\n",
       "\n",
       "Residuals:\n",
       "    Min      1Q  Median      3Q     Max \n",
       "-9.5911 -2.8493 -0.3755  2.9539  8.8630 \n",
       "\n",
       "Coefficients:\n",
       "            Estimate Std. Error t value Pr(>|t|)    \n",
       "(Intercept)  2.94338    7.67578   0.383   0.7017    \n",
       "AGE          0.05205    0.02212   2.353   0.0194 *  \n",
       "ABDOMEN      0.69798    0.03072  22.721  < 2e-16 ***\n",
       "WRIST       -1.71840    0.38130  -4.507 1.02e-05 ***\n",
       "HEIGHT      -0.27799    0.11486  -2.420   0.0162 *  \n",
       "---\n",
       "Signif. codes:  0 '***' 0.001 '**' 0.01 '*' 0.05 '.' 0.1 ' ' 1\n",
       "\n",
       "Residual standard error: 3.913 on 245 degrees of freedom\n",
       "Multiple R-squared:  0.7336,\tAdjusted R-squared:  0.7293 \n",
       "F-statistic: 168.7 on 4 and 245 DF,  p-value: < 2.2e-16\n"
      ]
     },
     "metadata": {},
     "output_type": "display_data"
    }
   ],
   "source": [
    "fit_bic = lm(bic_selection,data=data_new)\n",
    "summary(fit_bic) #r-squared:0.7336"
   ]
  },
  {
   "cell_type": "markdown",
   "metadata": {},
   "source": [
    "**Diagnostic plots:**"
   ]
  },
  {
   "cell_type": "code",
   "execution_count": 32,
   "metadata": {},
   "outputs": [
    {
     "data": {
      "image/png": "[encoded data removed]",
      "text/plain": [
       "Plot with title \"\""
      ]
     },
     "metadata": {},
     "output_type": "display_data"
    }
   ],
   "source": [
    "par(mfrow = c(2,2))\n",
    "plot(fit_bic)\n",
    "par(mfrow = c(1,1))\n",
    "# save the plot\n",
    "# png(filename=\"bic.png\")\n",
    "# par(mfrow = c(2,2))\n",
    "# plot(fit_bic)\n",
    "# par(mfrow = c(1,1))\n",
    "# dev.off()"
   ]
  },
  {
   "cell_type": "markdown",
   "metadata": {},
   "source": [
    "**CV MSE:**"
   ]
  },
  {
   "cell_type": "code",
   "execution_count": 40,
   "metadata": {},
   "outputs": [
    {
     "data": {
      "text/html": [
       "<span style=white-space:pre-wrap>'CV MSE for BIC model:  15.6622371635787'</span>"
      ],
      "text/latex": [
       "'CV MSE for BIC model:  15.6622371635787'"
      ],
      "text/markdown": [
       "<span style=white-space:pre-wrap>'CV MSE for BIC model:  15.6622371635787'</span>"
      ],
      "text/plain": [
       "[1] \"CV MSE for BIC model:  15.6622371635787\""
      ]
     },
     "metadata": {},
     "output_type": "display_data"
    }
   ],
   "source": [
    "bic_cv_mean = FindCV(data_new,bic_selection)\n",
    "paste(\"CV MSE for BIC model: \", bic_cv_mean)"
   ]
  },
  {
   "cell_type": "markdown",
   "metadata": {},
   "source": [
    "**Box-Cox:**  \n",
    "Test if we need a transformation or not"
   ]
  },
  {
   "cell_type": "code",
   "execution_count": 44,
   "metadata": {},
   "outputs": [
    {
     "data": {
      "image/png": "[encoded data removed]",
      "text/plain": [
       "plot without title"
      ]
     },
     "metadata": {},
     "output_type": "display_data"
    }
   ],
   "source": [
    "boxcox(fit_bic)"
   ]
  },
  {
   "cell_type": "markdown",
   "metadata": {},
   "source": [
    "### 3.6 Other Models\n",
    "We also try some other models which we think might be useful:  \n",
    "$$1st : BODYFAT \\sim WEIGHT + ABDOMEN$$\n",
    "$$2nd : BODYFAT \\sim ABDOMEN:WEIGHT$$\n",
    "$$3rd : BODYFAT \\sim ABDOMEN$$"
   ]
  },
  {
   "cell_type": "code",
   "execution_count": 49,
   "metadata": {},
   "outputs": [
    {
     "data": {
      "text/html": [
       "<table>\n",
       "<caption>A data.frame: 3 × 2</caption>\n",
       "<thead>\n",
       "\t<tr><th scope=col>R_square</th><th scope=col>CV_MSE</th></tr>\n",
       "\t<tr><th scope=col>&lt;dbl&gt;</th><th scope=col>&lt;dbl&gt;</th></tr>\n",
       "</thead>\n",
       "<tbody>\n",
       "\t<tr><td>0.7180885</td><td>16.25757</td></tr>\n",
       "\t<tr><td>0.5292770</td><td>26.92203</td></tr>\n",
       "\t<tr><td>0.6785452</td><td>18.37668</td></tr>\n",
       "</tbody>\n",
       "</table>\n"
      ],
      "text/latex": [
       "A data.frame: 3 × 2\n",
       "\\begin{tabular}{r|ll}\n",
       " R\\_square & CV\\_MSE\\\\\n",
       " <dbl> & <dbl>\\\\\n",
       "\\hline\n",
       "\t 0.7180885 & 16.25757\\\\\n",
       "\t 0.5292770 & 26.92203\\\\\n",
       "\t 0.6785452 & 18.37668\\\\\n",
       "\\end{tabular}\n"
      ],
      "text/markdown": [
       "\n",
       "A data.frame: 3 × 2\n",
       "\n",
       "| R_square &lt;dbl&gt; | CV_MSE &lt;dbl&gt; |\n",
       "|---|---|\n",
       "| 0.7180885 | 16.25757 |\n",
       "| 0.5292770 | 26.92203 |\n",
       "| 0.6785452 | 18.37668 |\n",
       "\n"
      ],
      "text/plain": [
       "  R_square  CV_MSE  \n",
       "1 0.7180885 16.25757\n",
       "2 0.5292770 26.92203\n",
       "3 0.6785452 18.37668"
      ]
     },
     "metadata": {},
     "output_type": "display_data"
    }
   ],
   "source": [
    "#try other models\n",
    "model_1 = BODYFAT ~ WEIGHT + ABDOMEN\n",
    "fit_model_1 = lm(model_1,data=data_new)\n",
    "rsq_1 = summary(fit_model_1)$r.squared\n",
    "model1_cv = FindCV(data_new, model_1)\n",
    "\n",
    "model_2 = BODYFAT ~ ABDOMEN:WEIGHT\n",
    "fit_model_2 = lm(model_2,data=data_new)\n",
    "rsq_2 = summary(fit_model_2)$r.squared\n",
    "model2_cv = FindCV(data_new, model_2)\n",
    "\n",
    "model_3 = BODYFAT ~ ABDOMEN\n",
    "fit_model_3 = lm(model_3,data=data_new)\n",
    "rsq_3 = summary(fit_model_3)$r.squared\n",
    "model3_cv = FindCV(data_new, model_3)\n",
    "\n",
    "# model informations\n",
    "rsq = c(rsq_1, rsq_2, rsq_3)\n",
    "cv_mse = c(model1_cv, model2_cv, model3_cv)\n",
    "other_models = data.frame(ID = c(\"1st\", \"2nd\", \"3rd\"), R_square = rsq, CV_MSE = cv_mse)\n",
    "other_models"
   ]
  },
  {
   "cell_type": "markdown",
   "metadata": {},
   "source": [
    "The 1st model has the minimal CV_MSE, choose this one to perform Diagnostics:"
   ]
  },
  {
   "cell_type": "code",
   "execution_count": 51,
   "metadata": {},
   "outputs": [
    {
     "data": {
      "text/plain": [
       "\n",
       "Call:\n",
       "lm(formula = model_1, data = data_new)\n",
       "\n",
       "Residuals:\n",
       "    Min      1Q  Median      3Q     Max \n",
       "-9.9944 -2.9533 -0.0913  2.9474 10.0462 \n",
       "\n",
       "Coefficients:\n",
       "             Estimate Std. Error t value Pr(>|t|)    \n",
       "(Intercept) -41.60727    2.43233 -17.106  < 2e-16 ***\n",
       "WEIGHT       -0.11553    0.01963  -5.886 1.28e-08 ***\n",
       "ABDOMEN       0.87794    0.05183  16.940  < 2e-16 ***\n",
       "---\n",
       "Signif. codes:  0 '***' 0.001 '**' 0.01 '*' 0.05 '.' 0.1 ' ' 1\n",
       "\n",
       "Residual standard error: 4.009 on 247 degrees of freedom\n",
       "Multiple R-squared:  0.7181,\tAdjusted R-squared:  0.7158 \n",
       "F-statistic: 314.6 on 2 and 247 DF,  p-value: < 2.2e-16\n"
      ]
     },
     "metadata": {},
     "output_type": "display_data"
    },
    {
     "data": {
      "image/png": "[encoded data removed]",
      "text/plain": [
       "Plot with title \"\""
      ]
     },
     "metadata": {},
     "output_type": "display_data"
    }
   ],
   "source": [
    "# for the 1st model\n",
    "summary(fit_model_1)\n",
    "par(mfrow = c(2,2))\n",
    "plot(fit_model_1)\n",
    "par(mfrow = c(1,1))\n",
    "# save the plot\n",
    "# png(filename=\"1st.png\")\n",
    "# par(mfrow = c(2,2))\n",
    "# plot(fit_model_1)\n",
    "# par(mfrow = c(1,1))\n",
    "# dev.off()"
   ]
  },
  {
   "cell_type": "markdown",
   "metadata": {},
   "source": [
    "### 3.7 Summary\n",
    "1. The **R-squared** and **CV_MSE** of **AIC model** and **BIC model** are very close, so we will choose **BIC model** because it contains with less predictors.  \n",
    "2. Among the three new models, the **1st** model has minimal **CV_MSE**, so, we think this model is also a good choise.\n",
    "2. From the residual plots we can see that linearity and equal variance assumptions are satisfied for both **BIC** model and **1st** model, because the residual points are evenly distributed on both sides of the line and they are both very close to the x-axis.  \n",
    "3. From the QQ plots, we can see that mornality assumptions are satisfied for both **BIC** model and **1st** model.\n",
    "4. From the cook’s distances in the residuals vs leverage plots, we can assume there is no outlier."
   ]
  },
  {
   "cell_type": "markdown",
   "metadata": {},
   "source": [
    "### 4. Strength & weakness"
   ]
  },
  {
   "cell_type": "markdown",
   "metadata": {},
   "source": [
    "### 5. Conclusion"
   ]
  },
  {
   "cell_type": "markdown",
   "metadata": {},
   "source": [
    "### 6. Contribution\n",
    "* Lingfeng ZHU: Implemented exploratory data analysis and copleted the Shiny App.\n",
    "* Ruochen YIN: Completed presentation slides and presentation-related works.\n",
    "* Jiahan LI: Implemented data cleaning and part of model diagnostic plots.\n",
    "* Chong WEI: Implemented part of model selection and cross validation."
   ]
  },
  {
   "cell_type": "code",
   "execution_count": null,
   "metadata": {},
   "outputs": [],
   "source": []
  }
 ],
 "metadata": {
  "kernelspec": {
   "display_name": "R",
   "language": "R",
   "name": "ir"
  },
  "language_info": {
   "codemirror_mode": "r",
   "file_extension": ".r",
   "mimetype": "text/x-r-source",
   "name": "R",
   "pygments_lexer": "r",
   "version": "3.5.3"
  }
 },
 "nbformat": 4,
 "nbformat_minor": 2
}
