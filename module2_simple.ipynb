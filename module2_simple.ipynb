{
 "cells": [
  {
   "cell_type": "markdown",
   "metadata": {},
   "source": [
    "# STAT 628 Module 2 BodyFat Group 3\n",
    "#### Introduction: \n",
    "Our motivation is to obtain a precise, concise and reasonable regression model to predict body fat percentage of a male based on his body informations. Our dataset ```BodyFat``` is a real data set of 252 men with measurements of their percentage of body fat and various body circumference measurements. We assume that percentage of body fat for an individual can be estimated once body density has been determined:\n",
    "$$BodyFat(\\%) = \\frac{495}{BodyDensity(gm/cm^3)} - 450 \\tag{1}$$\n",
    "And the BMI can be calculated by:\n",
    "$$BMI = \\frac{703\\times Weight(lbs)}{Height(inches)} \\tag{2}$$\n",
    "\n",
    "## 1. Exploratory data analysis"
   ]
  },
  {
   "cell_type": "markdown",
   "metadata": {},
   "source": [
    "We can first intuitively analyze the data by looking at its summary tables and histograms. There are some obvious \"abnormal\" obsevations: For example, the minimal ```BODYFAT``` is 0 %, which is unlikely to be true; besides, the maximal ```BODYFAT``` is 36 %, which is too large for a living person. We can calculate the predicted values of these \"abnormal\" data using some formula or just delete these observations.\n",
    "\n",
    "## 2. Data cleaning"
   ]
  },
  {
   "cell_type": "markdown",
   "metadata": {},
   "source": [
    "Calculate the rages of ```WEIGHT```,```HEIGHT```,```DENSITY```,```BODYFAT``` between there 1% quantiles and 99% quantiles respectively, any value out of such ranges can be considered as \"abnormal\" observations. We can then compare the body fat percentages calculated from formula (1) (```CalBodyFat```) and given by the dataset (```RealBodyFat```) of each observation to see if there is any strong difference. Do the same thing for BMI based on formula (2).\n",
    "<img style=\"float: center;\" src=\"out1.png\" width=\"40%\">"
   ]
  },
  {
   "cell_type": "markdown",
   "metadata": {},
   "source": [
    "**BMI:** The 42nd observation seems to be an outlier. Check his ```WEIGHT``` and ```HEIGHT``` to find out where is the problem. We can see that the *42nd* observation’s height (**29.5** inches) is out of quantile range, so we use the formula (2) to calculated the height based on his weight and BMI, it turns out that his height should be **69.43** inches. After changing the height of the *42nd* observation, we can find that the 163rd and 221st observations still don't fit the line perfectly, but after similar analysis, we find out that their heights and weights is within the quantile range above, so we won’t change them."
   ]
  },
  {
   "cell_type": "markdown",
   "metadata": {},
   "source": [
    "**BodyFat:** From the graph above, we can see that the *182nd* observation have a **ZERO** calculated body fat percentage and a **NEGATIVE** given body fat percentage, which is unlikely to be true for a normal male, so, we will just remove this observation. The *96th* obsrvation has a density far away from the density quantile range, since people can not easily obtain body density in real life, we will just remove this observation (We also drop the column ```DENSITY```). Finally, we use the 0.01 and 0.99 quantiles to replace the values out of 0.01 ~ 0.99 ranges and save the cleaned data into a ```.csv``` file.\n",
    "\n",
    "## 3. Feature Selection\n",
    "### 3.1 Cross Validation\n",
    "We use a **10-fold cross validation** to compute the average MSE (mean-square error) of each model:\n",
    "$$MSE = E((Y - \\hat{Y})^2) \\tag{3}$$\n",
    "We shuffle the data before every CV and repeated 1000 times."
   ]
  },
  {
   "cell_type": "markdown",
   "metadata": {},
   "source": [
    "### 3.2 Stepwise model selection\n",
    "Perform stepwise selections: We choose **AIC** and **BIC** methods:\n",
    "Let k denote the number of parameters, let RSS denote the residual sum of squares, let n denote the number of observations, we have:  \n",
    "** AIC (Akaike Information Criterion): **\n",
    "$$AIC = 2k + n\\ln{\\frac{RSS}{n}} \\tag{4}$$\n",
    "Choose the model with minimal AIC: $BODYFAT \\sim ABDOMEN + WEIGHT + WRIST + AGE + THIGH + NECK + FOREARM$  \n",
    "** BIC (Bayesian information criterion): **\n",
    "$$BIC = k\\ln{n} + n\\ln{\\frac{RSS}{n}} \\tag{5}$$\n",
    "Choose the model with minimal BIC: $BODYFAT ~ AGE + ABDOMEN + WRIST + HEIGHT$"
   ]
  },
  {
   "cell_type": "markdown",
   "metadata": {},
   "source": [
    "### 3.3 LASSO\n",
    "Let $\\beta$ denote the parameters, we have:  \n",
    "**LASSO** (least absolute shrinkage and selection operator) regression uses an objective function as:\n",
    "$$f(\\beta) = RSS_\\beta + \\lambda||\\beta||_1 \\tag{6}$$\n",
    "Find the $\\beta$ that minimizes $f(\\beta)$. Since LASSO can force some parameters to become zero, we can use LASSO to perform feature selection. It is not difficult to find that **LASSO** and **BIC** methods give the same feature selection result. Since the CV_MSE of AIC and BIC model are close to each other, we will choose BIC model because it has less predictors."
   ]
  },
  {
   "cell_type": "markdown",
   "metadata": {},
   "source": [
    "### 3.4 Other Models\n",
    "According to the correlation of bodyfat and other variables, abdomen and weight have relatively higher correlation, so we will try to use this two variables and build other models to see what happen:  \n",
    "$$1st : BODYFAT \\sim WEIGHT + ABDOMEN$$\n",
    "$$2nd : BODYFAT \\sim ABDOMEN:WEIGHT$$\n",
    "$$3rd : BODYFAT \\sim ABDOMEN$$\n",
    "Since the 1st model of the three other models has the lowest CV_MSE, we will chooswe this model.\n",
    "<img style=\"float: center;\" src=\"out3.png\" width=\"60%\">"
   ]
  },
  {
   "cell_type": "markdown",
   "metadata": {},
   "source": [
    "### 3.5 Model Diagnostics Plots\n",
    "<img style=\"float: center;\" src=\"out4.pNg\" width=\"80%\">"
   ]
  },
  {
   "cell_type": "markdown",
   "metadata": {},
   "source": [
    "1. From the residual plots we can see that linearity and equal variance assumptions are satisfied for both **BIC** model and **1st** model, because the residual points are evenly distributed on both sides of the line and they are both very close to the x-axis.  \n",
    "2. From the QQ plots, we can see that mornality assumptions are satisfied for both **BIC** model and **1st** model.\n",
    "3. From the cook’s distances in the residuals vs leverage plots, we can assume there is no outlier."
   ]
  },
  {
   "cell_type": "markdown",
   "metadata": {},
   "source": [
    "### 4. Strength & weakness\n",
    "*Strength*: 1. To deal with outliers, except for using the 2 formulas to correct or delete abnormal points, we also use 1% and 99% quantile of each variables to replace the value under or beyond these 2 quantiles, which is a reasonable way to reduce outliers. 2. We use Cross Validation to make our result more convincible. 3. Our two models are all linear, which are simple and with only 2 or 4 significant variables, which are all easy to measure.  \n",
    "\n",
    "*Weakness*: 1. For simplicity, the number of predictor variables are not enough. 2. The method we use to deal with outliers may to some extent hide the true situation of the sample."
   ]
  },
  {
   "cell_type": "markdown",
   "metadata": {},
   "source": [
    "### 5. Conclusion\n",
    "Choose the model with less predictors, our final model is:\n",
    "$$BODYFAT = -41.60 – 0.12\\times WEIGHT + 0.88\\times ABDOMEN$$  \n",
    "**Possible rule of thumb**: \"To calculate your body fat percentage, mutiply your ABDOMEN by 0.88, minus your WEIGHT multiplied by 0.12, then minus 41.60.\" "
   ]
  },
  {
   "cell_type": "markdown",
   "metadata": {},
   "source": [
    "### 6. Contribution\n",
    "* Lingfeng ZHU: Implemented exploratory data analysis and copleted the Shiny App.\n",
    "* Ruochen YIN: Completed presentation slides and presentation-related works.\n",
    "* Jiahan LI: Implemented data cleaning and part of model diagnostic plots.\n",
    "* Chong WEI: Implemented part of model selection and cross validation."
   ]
  }
 ],
 "metadata": {
  "hide_input": true,
  "kernelspec": {
   "display_name": "R",
   "language": "R",
   "name": "ir"
  },
  "language_info": {
   "codemirror_mode": "r",
   "file_extension": ".r",
   "mimetype": "text/x-r-source",
   "name": "R",
   "pygments_lexer": "r",
   "version": "3.5.3"
  }
 },
 "nbformat": 4,
 "nbformat_minor": 2
}
